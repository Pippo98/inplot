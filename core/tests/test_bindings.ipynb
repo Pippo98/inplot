{
 "cells": [
  {
   "cell_type": "code",
   "execution_count": 1,
   "id": "85ccd686",
   "metadata": {},
   "outputs": [],
   "source": [
    "import sys\n",
    "sys.path.append('./../../lib/')\n",
    "from pyinplot import *\n",
    "\n",
    "import numpy as np\n",
    "\n",
    "Start()"
   ]
  },
  {
   "cell_type": "code",
   "execution_count": null,
   "id": "68c50113",
   "metadata": {},
   "outputs": [
    {
     "ename": "",
     "evalue": "",
     "output_type": "error",
     "traceback": [
      "\u001b[1;31mThe Kernel crashed while executing code in the current cell or a previous cell. \n",
      "\u001b[1;31mPlease review the code in the cell(s) to identify a possible cause of the failure. \n",
      "\u001b[1;31mClick <a href='https://aka.ms/vscodeJupyterKernelCrash'>here</a> for more info. \n",
      "\u001b[1;31mView Jupyter <a href='command:jupyter.viewOutput'>log</a> for further details."
     ]
    }
   ],
   "source": [
    "f = figure(\"myfig\")\n",
    "\n",
    "xx = np.linspace(1, 100, 1000, dtype=\"float64\")\n",
    "yy = np.sin(xx)\n",
    "\n",
    "f.AddPlot(\"plot 1\")\n",
    "id = f.AddLinePlot(\"line1\", xx, yy)\n",
    "\n",
    "f.AddPlot(\"plot 2\")\n",
    "id = f.AddLinePlot(\"line2\", xx, yy)\n",
    "\n",
    "f.AddPlot3(\"plot 2\")\n",
    "id = f.AddLinePlot3(\"line2\", xx, yy, xx)\n",
    "id = f.AddScatterPlot3(\"line2\", xx, yy, xx)"
   ]
  },
  {
   "cell_type": "code",
   "execution_count": 3,
   "id": "7cb9ac8f",
   "metadata": {},
   "outputs": [],
   "source": [
    "f2 = figure(\"fig2\")\n",
    "\n",
    "xx = np.linspace(1, 100, 1000, dtype=\"float64\")\n",
    "yy = np.sin(xx)\n",
    "\n",
    "f2.AddPlot(\"plot 1\")\n",
    "id = f2.AddLinePlot(\"line1\", xx, yy)\n",
    "yy = np.cos(xx)\n",
    "id = f2.AddLinePlot(\"line2\", xx, yy)"
   ]
  },
  {
   "cell_type": "code",
   "execution_count": null,
   "id": "beffbe93",
   "metadata": {},
   "outputs": [],
   "source": [
    "WaitForEnd();"
   ]
  }
 ],
 "metadata": {
  "kernelspec": {
   "display_name": "Python 3",
   "language": "python",
   "name": "python3"
  },
  "language_info": {
   "codemirror_mode": {
    "name": "ipython",
    "version": 3
   },
   "file_extension": ".py",
   "mimetype": "text/x-python",
   "name": "python",
   "nbconvert_exporter": "python",
   "pygments_lexer": "ipython3",
   "version": "3.10.12"
  }
 },
 "nbformat": 4,
 "nbformat_minor": 5
}
